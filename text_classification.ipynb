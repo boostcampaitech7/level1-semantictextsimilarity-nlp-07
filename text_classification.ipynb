{
 "cells": [
  {
   "cell_type": "code",
   "execution_count": 1,
   "metadata": {},
   "outputs": [
    {
     "name": "stderr",
     "output_type": "stream",
     "text": [
      "/Users/chan/Library/Caches/pypoetry/virtualenvs/level1-semantictextsimilarity-nlp-07-gjq2GaXo-py3.12/lib/python3.12/site-packages/tqdm/auto.py:21: TqdmWarning: IProgress not found. Please update jupyter and ipywidgets. See https://ipywidgets.readthedocs.io/en/stable/user_install.html\n",
      "  from .autonotebook import tqdm as notebook_tqdm\n"
     ]
    },
    {
     "name": "stdout",
     "output_type": "stream",
     "text": [
      "data/train.csv data/test.csv data/dev.csv\n"
     ]
    }
   ],
   "source": [
    "from transformers import DistilBertTokenizer, DistilBertForSequenceClassification, Trainer, TrainingArguments\n",
    "from sklearn.model_selection import KFold\n",
    "from sklearn.preprocessing import LabelEncoder\n",
    "import torch\n",
    "from datasets import Dataset\n",
    "import numpy as np\n",
    "import pandas as pd\n",
    "import os\n",
    "\n",
    "RANDOM_SEED = 42\n",
    "torch.manual_seed(RANDOM_SEED)\n",
    "DATA_DIR_PATH = 'data'\n",
    "TRAIN_PATH = os.path.join(DATA_DIR_PATH, 'train.csv')\n",
    "TEST_PATH = os.path.join(DATA_DIR_PATH, 'test.csv')\n",
    "DEV_PATH = os.path.join(DATA_DIR_PATH, 'dev.csv')\n",
    "print(TRAIN_PATH, TEST_PATH, DEV_PATH)"
   ]
  },
  {
   "cell_type": "code",
   "execution_count": 2,
   "metadata": {},
   "outputs": [
    {
     "name": "stdout",
     "output_type": "stream",
     "text": [
      "cpu\n"
     ]
    }
   ],
   "source": [
    "device = torch.device('cpu')\n",
    "print(device)"
   ]
  },
  {
   "cell_type": "code",
   "execution_count": 3,
   "metadata": {},
   "outputs": [],
   "source": [
    "train_df = pd.read_csv(TRAIN_PATH)\n",
    "dev_df = pd.read_csv(DEV_PATH)\n",
    "test_df = pd.read_csv(TEST_PATH)"
   ]
  },
  {
   "cell_type": "code",
   "execution_count": 4,
   "metadata": {},
   "outputs": [
    {
     "name": "stdout",
     "output_type": "stream",
     "text": [
      "<class 'pandas.core.frame.DataFrame'>\n",
      "RangeIndex: 19748 entries, 0 to 19747\n",
      "Data columns (total 2 columns):\n",
      " #   Column    Non-Null Count  Dtype \n",
      "---  ------    --------------  ----- \n",
      " 0   sentence  19748 non-null  object\n",
      " 1   source    19748 non-null  object\n",
      "dtypes: object(2)\n",
      "memory usage: 308.7+ KB\n",
      "<class 'pandas.core.frame.DataFrame'>\n",
      "RangeIndex: 2200 entries, 0 to 2199\n",
      "Data columns (total 2 columns):\n",
      " #   Column    Non-Null Count  Dtype \n",
      "---  ------    --------------  ----- \n",
      " 0   sentence  2200 non-null   object\n",
      " 1   source    2200 non-null   object\n",
      "dtypes: object(2)\n",
      "memory usage: 34.5+ KB\n",
      "None None\n"
     ]
    }
   ],
   "source": [
    "ts1 = train_df[['sentence_1', 'source']].rename(columns={'sentence_1': 'sentence'})\n",
    "ts2 = train_df[['sentence_2', 'source']].rename(columns={'sentence_2': 'sentence'})\n",
    "ds1 = dev_df[['sentence_1', 'source']].rename(columns={'sentence_1': 'sentence'})\n",
    "ds2 = dev_df[['sentence_2', 'source']].rename(columns={'sentence_2': 'sentence'})\n",
    "train = pd.concat([ts1, ts2, ds1, ds2], ignore_index=True)\n",
    "\n",
    "fs1 = test_df[['sentence_1', 'source']].rename(columns={'sentence_1': 'sentence'})\n",
    "fs2 = test_df[['sentence_2', 'source']].rename(columns={'sentence_2': 'sentence'})\n",
    "test = pd.concat([fs1, fs2], ignore_index=True)\n",
    "print(train.info(), test.info())"
   ]
  },
  {
   "cell_type": "code",
   "execution_count": 5,
   "metadata": {},
   "outputs": [],
   "source": [
    "label_encoder = LabelEncoder()\n",
    "train['source_encoded'] = label_encoder.fit_transform(train['source'])\n",
    "test['source_encoded'] = label_encoder.fit_transform(test['source'])"
   ]
  },
  {
   "cell_type": "code",
   "execution_count": 6,
   "metadata": {},
   "outputs": [
    {
     "name": "stderr",
     "output_type": "stream",
     "text": [
      "/Users/chan/Library/Caches/pypoetry/virtualenvs/level1-semantictextsimilarity-nlp-07-gjq2GaXo-py3.12/lib/python3.12/site-packages/transformers/tokenization_utils_base.py:1601: FutureWarning: `clean_up_tokenization_spaces` was not set. It will be set to `True` by default. This behavior will be depracted in transformers v4.45, and will be then set to `False` by default. For more details check this issue: https://github.com/huggingface/transformers/issues/31884\n",
      "  warnings.warn(\n",
      "Some weights of DistilBertForSequenceClassification were not initialized from the model checkpoint at distilbert-base-uncased and are newly initialized: ['classifier.bias', 'classifier.weight', 'pre_classifier.bias', 'pre_classifier.weight']\n",
      "You should probably TRAIN this model on a down-stream task to be able to use it for predictions and inference.\n"
     ]
    },
    {
     "data": {
      "text/plain": [
       "DistilBertForSequenceClassification(\n",
       "  (distilbert): DistilBertModel(\n",
       "    (embeddings): Embeddings(\n",
       "      (word_embeddings): Embedding(30522, 768, padding_idx=0)\n",
       "      (position_embeddings): Embedding(512, 768)\n",
       "      (LayerNorm): LayerNorm((768,), eps=1e-12, elementwise_affine=True)\n",
       "      (dropout): Dropout(p=0.1, inplace=False)\n",
       "    )\n",
       "    (transformer): Transformer(\n",
       "      (layer): ModuleList(\n",
       "        (0-5): 6 x TransformerBlock(\n",
       "          (attention): MultiHeadSelfAttention(\n",
       "            (dropout): Dropout(p=0.1, inplace=False)\n",
       "            (q_lin): Linear(in_features=768, out_features=768, bias=True)\n",
       "            (k_lin): Linear(in_features=768, out_features=768, bias=True)\n",
       "            (v_lin): Linear(in_features=768, out_features=768, bias=True)\n",
       "            (out_lin): Linear(in_features=768, out_features=768, bias=True)\n",
       "          )\n",
       "          (sa_layer_norm): LayerNorm((768,), eps=1e-12, elementwise_affine=True)\n",
       "          (ffn): FFN(\n",
       "            (dropout): Dropout(p=0.1, inplace=False)\n",
       "            (lin1): Linear(in_features=768, out_features=3072, bias=True)\n",
       "            (lin2): Linear(in_features=3072, out_features=768, bias=True)\n",
       "            (activation): GELUActivation()\n",
       "          )\n",
       "          (output_layer_norm): LayerNorm((768,), eps=1e-12, elementwise_affine=True)\n",
       "        )\n",
       "      )\n",
       "    )\n",
       "  )\n",
       "  (pre_classifier): Linear(in_features=768, out_features=768, bias=True)\n",
       "  (classifier): Linear(in_features=768, out_features=6, bias=True)\n",
       "  (dropout): Dropout(p=0.2, inplace=False)\n",
       ")"
      ]
     },
     "execution_count": 6,
     "metadata": {},
     "output_type": "execute_result"
    }
   ],
   "source": [
    "tokenizer = DistilBertTokenizer.from_pretrained('distilbert-base-uncased')\n",
    "model = DistilBertForSequenceClassification.from_pretrained('distilbert-base-uncased', num_labels=len(label_encoder.classes_))\n",
    "model.to(device)"
   ]
  },
  {
   "cell_type": "code",
   "execution_count": 7,
   "metadata": {},
   "outputs": [],
   "source": [
    "def tokenize_function(examples):\n",
    "    return tokenizer(examples['sentence'], padding='max_length', truncation=True)"
   ]
  },
  {
   "cell_type": "code",
   "execution_count": 8,
   "metadata": {},
   "outputs": [
    {
     "name": "stderr",
     "output_type": "stream",
     "text": [
      "Map: 100%|██████████| 15798/15798 [00:02<00:00, 6799.19 examples/s]\n",
      "Map: 100%|██████████| 3950/3950 [00:00<00:00, 6838.28 examples/s]\n",
      "Map: 100%|██████████| 15798/15798 [00:00<00:00, 26944.25 examples/s]\n",
      "Map: 100%|██████████| 3950/3950 [00:00<00:00, 32937.57 examples/s]\n",
      "/Users/chan/Library/Caches/pypoetry/virtualenvs/level1-semantictextsimilarity-nlp-07-gjq2GaXo-py3.12/lib/python3.12/site-packages/transformers/training_args.py:1525: FutureWarning: `evaluation_strategy` is deprecated and will be removed in version 4.46 of 🤗 Transformers. Use `eval_strategy` instead\n",
      "  warnings.warn(\n"
     ]
    },
    {
     "name": "stdout",
     "output_type": "stream",
     "text": [
      "Starting training for fold 1...\n"
     ]
    },
    {
     "name": "stderr",
     "output_type": "stream",
     "text": [
      "  9%|▉         | 266/2964 [02:29<27:35,  1.63it/s]"
     ]
    }
   ],
   "source": [
    "# kFold 설정\n",
    "kf = KFold(n_splits=5, shuffle=True, random_state=42)\n",
    "\n",
    "# kFold 교차 검증\n",
    "fold_accuracies = []\n",
    "for fold, (train_idx, val_idx) in enumerate(kf.split(train)):\n",
    "    # Train/Val 데이터를 분리\n",
    "    train_data = train.iloc[train_idx]\n",
    "    val_data = train.iloc[val_idx]\n",
    "\n",
    "    # Hugging Face Datasets 형식으로 변환\n",
    "    train_dataset = Dataset.from_pandas(train_data)\n",
    "    val_dataset = Dataset.from_pandas(val_data)\n",
    "\n",
    "    # 토큰화 적용\n",
    "    train_dataset = train_dataset.map(tokenize_function, batched=True)\n",
    "    val_dataset = val_dataset.map(tokenize_function, batched=True)\n",
    "\n",
    "    # 필요한 열만 선택 및 라벨을 'labels'로 설정\n",
    "    train_dataset = train_dataset.map(lambda examples: {'labels': examples['source_encoded']})\n",
    "    val_dataset = val_dataset.map(lambda examples: {'labels': examples['source_encoded']})\n",
    "\n",
    "    train_dataset.set_format(type='torch', columns=['input_ids', 'attention_mask', 'labels'])\n",
    "    val_dataset.set_format(type='torch', columns=['input_ids', 'attention_mask', 'labels'])\n",
    "\n",
    "    # 학습 파라미터 설정\n",
    "    training_args = TrainingArguments(\n",
    "        output_dir=f'./results_{fold}',  # 각 폴드별로 결과 저장\n",
    "        evaluation_strategy=\"epoch\",\n",
    "        per_device_train_batch_size=16,\n",
    "        per_device_eval_batch_size=16,\n",
    "        num_train_epochs=3,  # 에폭 수\n",
    "        logging_dir=f'./logs_{fold}',\n",
    "        report_to=\"none\",  # 콘솔에만 출력하도록 설정\n",
    "    )\n",
    "\n",
    "    # 트레이너 설정\n",
    "    trainer = Trainer(\n",
    "        model=model,\n",
    "        args=training_args,\n",
    "        train_dataset=train_dataset,\n",
    "        eval_dataset=val_dataset,\n",
    "        tokenizer=tokenizer\n",
    "    )\n",
    "\n",
    "    # 모델 학습\n",
    "    print(f\"Starting training for fold {fold+1}...\")\n",
    "    trainer.train()\n",
    "\n",
    "    # 폴드별 평가 및 정확도 기록\n",
    "    metrics = trainer.evaluate()\n",
    "    fold_accuracy = metrics['eval_loss']  # eval_loss를 대신 사용하거나 eval_accuracy가 있으면 그 값을 사용\n",
    "    fold_accuracies.append(fold_accuracy)\n",
    "    print(f\"Fold {fold+1} evaluation: {metrics}\")\n",
    "\n",
    "# 각 폴드의 평균 정확도 계산\n",
    "average_accuracy = np.mean(fold_accuracies)\n",
    "print(f'Average kFold Accuracy: {average_accuracy:.4f}')\n"
   ]
  }
 ],
 "metadata": {
  "kernelspec": {
   "display_name": "level1-semantictextsimilarity-nlp-07-gjq2GaXo-py3.12",
   "language": "python",
   "name": "python3"
  },
  "language_info": {
   "codemirror_mode": {
    "name": "ipython",
    "version": 3
   },
   "file_extension": ".py",
   "mimetype": "text/x-python",
   "name": "python",
   "nbconvert_exporter": "python",
   "pygments_lexer": "ipython3",
   "version": "3.12.6"
  }
 },
 "nbformat": 4,
 "nbformat_minor": 2
}
