{
 "cells": [
  {
   "cell_type": "code",
   "execution_count": 1,
   "metadata": {},
   "outputs": [
    {
     "name": "stderr",
     "output_type": "stream",
     "text": [
      "c:\\Users\\승범 pc\\Desktop\\study\\deeplearning\\naver_boot\\level1-semantictextsimilarity-nlp-07\\project1_virtual\\Lib\\site-packages\\tqdm\\auto.py:21: TqdmWarning: IProgress not found. Please update jupyter and ipywidgets. See https://ipywidgets.readthedocs.io/en/stable/user_install.html\n",
      "  from .autonotebook import tqdm as notebook_tqdm\n"
     ]
    }
   ],
   "source": [
    "from src.config.path_config import *\n",
    "import os\n",
    "import glob\n",
    "import torch\n",
    "import torch.nn as nn\n",
    "import pandas as pd\n",
    "import numpy as np\n",
    "from tqdm.auto import tqdm"
   ]
  },
  {
   "cell_type": "code",
   "execution_count": 11,
   "metadata": {},
   "outputs": [],
   "source": [
    "def load_csv_data( path, column):\n",
    "    csv_data = []\n",
    "    csv_files = glob.glob(os.path.join(path, '*.csv'))\n",
    "    for csv_file in csv_files:\n",
    "        df = pd.read_csv(csv_file)\n",
    "        csv_data.append(df[column].values)\n",
    "    return len(csv_files), torch.tensor(np.array(csv_data).T, dtype=torch.float32) # Shape: (num_samples, num_csvs)"
   ]
  },
  {
   "cell_type": "code",
   "execution_count": 12,
   "metadata": {},
   "outputs": [],
   "source": [
    "# 평균 추론\n",
    "_, mean_data = load_csv_data(ENSEMBLE_OUTPUT, column='target')\n",
    "mean_data = torch.mean(mean_data, dim=1, keepdim=True)"
   ]
  },
  {
   "cell_type": "code",
   "execution_count": 13,
   "metadata": {},
   "outputs": [],
   "source": [
    "mean_data = np.array(mean_data)"
   ]
  },
  {
   "cell_type": "code",
   "execution_count": 14,
   "metadata": {},
   "outputs": [],
   "source": [
    "output = pd.read_csv(OUTPUT_PATH)\n",
    "output['target'] = mean_data\n",
    "output_filename = f'Ensemble_mean.csv'\n",
    "output.to_csv(output_filename, index=False)"
   ]
  },
  {
   "cell_type": "code",
   "execution_count": 15,
   "metadata": {},
   "outputs": [
    {
     "data": {
      "text/plain": [
       "550"
      ]
     },
     "execution_count": 15,
     "metadata": {},
     "output_type": "execute_result"
    }
   ],
   "source": [
    "target_data = pd.read_csv('./results/train/train_50_electra_base.csv')\n",
    "target_data = target_data['label']\n",
    "target_data = torch.tensor(target_data, dtype=torch.float32)\n",
    "len(target_data)"
   ]
  },
  {
   "cell_type": "code",
   "execution_count": 16,
   "metadata": {},
   "outputs": [],
   "source": [
    "num_csvs, linear_data = load_csv_data(ENSEMBLE_TRAIN, column='target')"
   ]
  },
  {
   "cell_type": "code",
   "execution_count": 17,
   "metadata": {},
   "outputs": [
    {
     "name": "stderr",
     "output_type": "stream",
     "text": [
      "  0%|          | 0/100 [00:00<?, ?it/s]c:\\Users\\승범 pc\\Desktop\\study\\deeplearning\\naver_boot\\level1-semantictextsimilarity-nlp-07\\project1_virtual\\Lib\\site-packages\\torch\\nn\\modules\\loss.py:538: UserWarning: Using a target size (torch.Size([550])) that is different to the input size (torch.Size([550, 1])). This will likely lead to incorrect results due to broadcasting. Please ensure they have the same size.\n",
      "  return F.mse_loss(input, target, reduction=self.reduction)\n",
      "100%|██████████| 100/100 [00:00<00:00, 1427.18it/s]"
     ]
    },
    {
     "name": "stdout",
     "output_type": "stream",
     "text": [
      "Epoch [10/100], Loss: 9.2853\n",
      "Epoch [20/100], Loss: 8.6732\n",
      "Epoch [30/100], Loss: 8.1020\n",
      "Epoch [40/100], Loss: 7.5733\n",
      "Epoch [50/100], Loss: 7.0869\n",
      "Epoch [60/100], Loss: 6.6416\n",
      "Epoch [70/100], Loss: 6.2356\n",
      "Epoch [80/100], Loss: 5.8667\n",
      "Epoch [90/100], Loss: 5.5328\n",
      "Epoch [100/100], Loss: 5.2316\n"
     ]
    },
    {
     "name": "stderr",
     "output_type": "stream",
     "text": [
      "\n"
     ]
    }
   ],
   "source": [
    "model =  nn.Linear(num_csvs, 1)\n",
    "num_epochs=100\n",
    "lr=0.001\n",
    "criterion = nn.MSELoss()\n",
    "optimizer = torch.optim.AdamW(model.parameters(), lr=lr)\n",
    "\n",
    "for epoch in tqdm(range(num_epochs)):\n",
    "    optimizer.zero_grad()\n",
    "    outputs = model(linear_data)\n",
    "    loss = criterion(outputs, target_data)\n",
    "    loss.backward()\n",
    "    optimizer.step()\n",
    "    if (epoch + 1) % 10 == 0:\n",
    "        print(f\"Epoch [{epoch+1}/{num_epochs}], Loss: {loss.item():.4f}\")"
   ]
  },
  {
   "cell_type": "code",
   "execution_count": 18,
   "metadata": {},
   "outputs": [],
   "source": [
    "model.eval()\n",
    "_, mean_data = load_csv_data(ENSEMBLE_OUTPUT, column='target')"
   ]
  },
  {
   "cell_type": "code",
   "execution_count": 19,
   "metadata": {},
   "outputs": [],
   "source": [
    "predictions = model(mean_data)"
   ]
  },
  {
   "cell_type": "code",
   "execution_count": 36,
   "metadata": {},
   "outputs": [],
   "source": [
    "output = pd.read_csv(OUTPUT_PATH)\n",
    "output['target'] = predictions\n",
    "output_filename = f'Ensemble_linear.csv'\n",
    "output.to_csv(output_filename, index=False)"
   ]
  },
  {
   "cell_type": "code",
   "execution_count": 47,
   "metadata": {},
   "outputs": [
    {
     "data": {
      "text/plain": [
       "(tensor([[2.9863, 3.2383, 2.4691, 3.7734],\n",
       "         [4.4141, 3.9688, 4.3391, 4.2198],\n",
       "         [1.4971, 1.2686, 1.5906, 1.9185],\n",
       "         ...,\n",
       "         [3.6953, 3.7500, 3.8851, 3.9554],\n",
       "         [3.1133, 3.8379, 3.4891, 3.9165],\n",
       "         [4.7734, 4.9062, 4.9679, 5.3005]]),\n",
       " tensor([[2.4123],\n",
       "         [3.3526],\n",
       "         [1.5244],\n",
       "         ...,\n",
       "         [3.0198],\n",
       "         [2.7745],\n",
       "         [3.7742]]))"
      ]
     },
     "execution_count": 47,
     "metadata": {},
     "output_type": "execute_result"
    }
   ],
   "source": [
    "mean_data, predictions"
   ]
  }
 ],
 "metadata": {
  "kernelspec": {
   "display_name": "project1_virtual",
   "language": "python",
   "name": "python3"
  },
  "language_info": {
   "codemirror_mode": {
    "name": "ipython",
    "version": 3
   },
   "file_extension": ".py",
   "mimetype": "text/x-python",
   "name": "python",
   "nbconvert_exporter": "python",
   "pygments_lexer": "ipython3",
   "version": "3.12.1"
  }
 },
 "nbformat": 4,
 "nbformat_minor": 2
}
