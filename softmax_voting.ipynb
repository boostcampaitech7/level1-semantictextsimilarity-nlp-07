{
  "nbformat": 4,
  "nbformat_minor": 0,
  "metadata": {
    "colab": {
      "provenance": []
    },
    "kernelspec": {
      "name": "python3",
      "display_name": "Python 3"
    },
    "language_info": {
      "name": "python"
    }
  },
  "cells": [
    {
      "cell_type": "code",
      "execution_count": 2,
      "metadata": {
        "colab": {
          "base_uri": "https://localhost:8080/"
        },
        "id": "tM3JpRYZ0pSs",
        "outputId": "708b2ce2-7902-4e23-99ba-e74d543d43ad"
      },
      "outputs": [
        {
          "output_type": "stream",
          "name": "stdout",
          "text": [
            "결과가 성공적으로 'final_result.csv' 파일에 저장되었습니다.\n"
          ]
        }
      ],
      "source": [
        "import pandas as pd\n",
        "import numpy as np\n",
        "\n",
        "# 모델의 신뢰도 점수\n",
        "model_confidences = [0.9167,0.9175]\n",
        "\n",
        "# Softmax 함수를 이용하여 가중치 계산\n",
        "def softmax(x):\n",
        "    e_x = np.exp(x - np.max(x))\n",
        "    return e_x / e_x.sum()\n",
        "\n",
        "# 신뢰도 기반의 softmax 가중치 계산\n",
        "weights = softmax(model_confidences)\n",
        "\n",
        "# 각 모델의 결과값을 담은 CSV 파일 경로\n",
        "# 신뢰도 array와 순서 확인\n",
        "csv_files = [\"output_base_20_electra_lr7e-6_mse_without_round.csv\", \"output_base_20_roberta_lr5e-6_mse_without_round.csv\"]\n",
        "\n",
        "# 모델 결과들을 합산할 리스트\n",
        "model_results = []\n",
        "\n",
        "# 각 모델의 CSV 파일을 읽어서 데이터프레임으로 저장\n",
        "for csv_file in csv_files:\n",
        "    df = pd.read_csv(csv_file)\n",
        "    model_results.append(df)\n",
        "\n",
        "# 결과를 합치기 위해 첫 번째 모델의 데이터프레임을 기반으로 복사\n",
        "final_result = model_results[0].copy()\n",
        "final_result.iloc[:, 1:] = 0  # 첫 번째 열은 ID라고 가정하고 나머지는 합치기 위한 0으로 초기화\n",
        "\n",
        "# 가중치에 따라 모델 결과 합치기\n",
        "for i, model_df in enumerate(model_results):\n",
        "    final_result.iloc[:, 1:] += weights[i] * model_df.iloc[:, 1:]\n",
        "\n",
        "# 최종 결과 저장\n",
        "final_result.to_csv(\"final_result.csv\", index=False)\n",
        "\n",
        "print(\"결과가 성공적으로 'final_result.csv' 파일에 저장되었습니다.\")"
      ]
    }
  ]
}