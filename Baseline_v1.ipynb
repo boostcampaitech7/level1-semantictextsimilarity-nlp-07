{
 "cells": [
  {
   "cell_type": "code",
   "execution_count": 1,
   "metadata": {},
   "outputs": [
    {
     "name": "stderr",
     "output_type": "stream",
     "text": [
      "c:\\Users\\승범 pc\\Desktop\\study\\deeplearning\\naver_boot\\level1-semantictextsimilarity-nlp-07\\project1_virtual\\Lib\\site-packages\\tqdm\\auto.py:21: TqdmWarning: IProgress not found. Please update jupyter and ipywidgets. See https://ipywidgets.readthedocs.io/en/stable/user_install.html\n",
      "  from .autonotebook import tqdm as notebook_tqdm\n",
      "Seed set to 0\n"
     ]
    }
   ],
   "source": [
    "from src.config.data_loader_config import DATA_LOADER_CONFIG, OPTIMIZER_CONFIG\n",
    "from src.data_loader.loader import Dataloader\n",
    "from src.model.model import Model, Models, LossFunctions\n",
    "from src.trainer.predict import save_result\n",
    "from utils.fix_seed import set_seed\n",
    "import src.callback as callback\n",
    "import pytorch_lightning as pl\n",
    "import torch\n",
    "\n",
    "# Parameters 설정\n",
    "batch_size = DATA_LOADER_CONFIG['batch_size']\n",
    "shuffle = DATA_LOADER_CONFIG['shuffle']\n",
    "learning_rate = 6.906491557663505e-06\n",
    "max_epoch = OPTIMIZER_CONFIG['max_epoch']\n",
    "num_workers: int = DATA_LOADER_CONFIG.get('num_workers', 4)  # num_workers 기본값 4로 설정\n",
    "torch.cuda.empty_cache()\n",
    "set_seed(0)"
   ]
  },
  {
   "cell_type": "code",
   "execution_count": 2,
   "metadata": {},
   "outputs": [
    {
     "name": "stderr",
     "output_type": "stream",
     "text": [
      "c:\\Users\\승범 pc\\Desktop\\study\\deeplearning\\naver_boot\\level1-semantictextsimilarity-nlp-07\\project1_virtual\\Lib\\site-packages\\pytorch_lightning\\utilities\\parsing.py:208: Attribute 'loss_func' is an instance of `nn.Module` and is already saved during checkpointing. It is recommended to ignore them using `self.save_hyperparameters(ignore=['loss_func'])`.\n",
      "Some weights of RobertaForSequenceClassification were not initialized from the model checkpoint at jhgan/ko-sroberta-multitask and are newly initialized: ['classifier.dense.bias', 'classifier.dense.weight', 'classifier.out_proj.bias', 'classifier.out_proj.weight']\n",
      "You should probably TRAIN this model on a down-stream task to be able to use it for predictions and inference.\n",
      "Using 16bit Automatic Mixed Precision (AMP)\n",
      "GPU available: True (cuda), used: True\n",
      "TPU available: False, using: 0 TPU cores\n",
      "HPU available: False, using: 0 HPUs\n"
     ]
    }
   ],
   "source": [
    "# 모델 선언\n",
    "# select Model \n",
    "model_name = 'sroberta'\n",
    "model = Model(Models.sroberta, learning_rate, LossFunctions.mse_loss)\n",
    "\n",
    "# Dataloader 선언\n",
    "dataloader = Dataloader(batch_size, shuffle, Models.sroberta, check_aug=False, num_workers=num_workers)\n",
    "\n",
    "# callback 정의\n",
    "epoch_print_callback = callback.EpochPrintCallback()\n",
    "checkpoint_callback = callback.ModelCheckpoint(model_name=model_name)\n",
    "early_stopping = callback.EarlyStopping()\n",
    "lr_monitor = callback.LearningRateMonitor()\n",
    "trainer = pl.Trainer(\n",
    "    accelerator='auto',\n",
    "    devices='auto',\n",
    "    max_epochs=max_epoch,\n",
    "    callbacks=[lr_monitor, epoch_print_callback, checkpoint_callback, early_stopping],\n",
    "    precision='16-mixed',\n",
    "    deterministic=True\n",
    ")"
   ]
  },
  {
   "cell_type": "markdown",
   "metadata": {},
   "source": [
    "# 학습"
   ]
  },
  {
   "cell_type": "code",
   "execution_count": 3,
   "metadata": {},
   "outputs": [
    {
     "name": "stderr",
     "output_type": "stream",
     "text": [
      "You are using a CUDA device ('NVIDIA GeForce RTX 4070 Ti SUPER') that has Tensor Cores. To properly utilize them, you should set `torch.set_float32_matmul_precision('medium' | 'high')` which will trade-off precision for performance. For more details, read https://pytorch.org/docs/stable/generated/torch.set_float32_matmul_precision.html#torch.set_float32_matmul_precision\n",
      "c:\\Users\\승범 pc\\Desktop\\study\\deeplearning\\naver_boot\\level1-semantictextsimilarity-nlp-07\\project1_virtual\\Lib\\site-packages\\pytorch_lightning\\callbacks\\model_checkpoint.py:654: Checkpoint directory C:\\Users\\승범 pc\\Desktop\\study\\deeplearning\\naver_boot\\level1-semantictextsimilarity-nlp-07\\sroberta\\checkpoints exists and is not empty.\n",
      "LOCAL_RANK: 0 - CUDA_VISIBLE_DEVICES: [0]\n",
      "\n",
      "  | Name      | Type                             | Params | Mode \n",
      "-----------------------------------------------------------------------\n",
      "0 | loss_func | MSELoss                          | 0      | train\n",
      "1 | plm       | RobertaForSequenceClassification | 110 M  | eval \n",
      "-----------------------------------------------------------------------\n",
      "110 M     Trainable params\n",
      "0         Non-trainable params\n",
      "110 M     Total params\n",
      "442.476   Total estimated model params size (MB)\n",
      "1         Modules in train mode\n",
      "230       Modules in eval mode\n"
     ]
    },
    {
     "name": "stdout",
     "output_type": "stream",
     "text": [
      "Epoch 0: 100%|██████████| 583/583 [00:43<00:00, 13.53it/s, v_num=0]        Epoch 0 ended\n",
      "Validation Loss: 0.5718\n",
      "Training Loss: 0.6015\n",
      "Validation Pearson Correlation: 0.8988\n",
      "----------------------------------------\n",
      "Epoch 0: 100%|██████████| 583/583 [00:43<00:00, 13.53it/s, v_num=0]"
     ]
    },
    {
     "name": "stderr",
     "output_type": "stream",
     "text": [
      "Metric val_loss improved. New best score: 0.572\n",
      "Epoch 0, global step 583: 'val_loss' reached 0.57184 (best 0.57184), saving model to 'C:\\\\Users\\\\승범 pc\\\\Desktop\\\\study\\\\deeplearning\\\\naver_boot\\\\level1-semantictextsimilarity-nlp-07\\\\sroberta\\\\checkpoints\\\\best-sroberta-epoch=00-val_loss=0.57.ckpt' as top 1\n",
      "`Trainer.fit` stopped: `max_epochs=1` reached.\n"
     ]
    },
    {
     "name": "stdout",
     "output_type": "stream",
     "text": [
      "Epoch 0: 100%|██████████| 583/583 [00:48<00:00, 12.09it/s, v_num=0]\n"
     ]
    }
   ],
   "source": [
    "trainer.fit(model=model, datamodule=dataloader)"
   ]
  },
  {
   "cell_type": "markdown",
   "metadata": {},
   "source": [
    "# 추론\n"
   ]
  },
  {
   "cell_type": "code",
   "execution_count": 4,
   "metadata": {},
   "outputs": [
    {
     "name": "stderr",
     "output_type": "stream",
     "text": [
      "c:\\Users\\승범 pc\\Desktop\\study\\deeplearning\\naver_boot\\level1-semantictextsimilarity-nlp-07\\project1_virtual\\Lib\\site-packages\\pytorch_lightning\\utilities\\parsing.py:208: Attribute 'loss_func' is an instance of `nn.Module` and is already saved during checkpointing. It is recommended to ignore them using `self.save_hyperparameters(ignore=['loss_func'])`.\n",
      "Some weights of RobertaForSequenceClassification were not initialized from the model checkpoint at jhgan/ko-sroberta-multitask and are newly initialized: ['classifier.dense.bias', 'classifier.dense.weight', 'classifier.out_proj.bias', 'classifier.out_proj.weight']\n",
      "You should probably TRAIN this model on a down-stream task to be able to use it for predictions and inference.\n",
      "LOCAL_RANK: 0 - CUDA_VISIBLE_DEVICES: [0]\n"
     ]
    },
    {
     "name": "stdout",
     "output_type": "stream",
     "text": [
      "Testing DataLoader 0: 100%|██████████| 35/35 [00:01<00:00, 20.91it/s]\n",
      "────────────────────────────────────────────────────────────────────────────────────────────────────────────────────────\n",
      "       Test metric             DataLoader 0\n",
      "────────────────────────────────────────────────────────────────────────────────────────────────────────────────────────\n",
      "      test_pearson          0.9234943389892578\n",
      "        val_loss            0.31842508912086487\n",
      "────────────────────────────────────────────────────────────────────────────────────────────────────────────────────────\n"
     ]
    },
    {
     "data": {
      "text/plain": [
       "[{'test_pearson': 0.9234943389892578, 'val_loss': 0.31842508912086487}]"
      ]
     },
     "execution_count": 4,
     "metadata": {},
     "output_type": "execute_result"
    }
   ],
   "source": [
    "best_model_path = checkpoint_callback.best_model_path\n",
    "model = Model.load_from_checkpoint(best_model_path)\n",
    "trainer.test(model=model, datamodule=dataloader)"
   ]
  },
  {
   "cell_type": "code",
   "execution_count": 5,
   "metadata": {},
   "outputs": [
    {
     "name": "stderr",
     "output_type": "stream",
     "text": [
      "LOCAL_RANK: 0 - CUDA_VISIBLE_DEVICES: [0]\n"
     ]
    },
    {
     "name": "stdout",
     "output_type": "stream",
     "text": [
      "Predicting DataLoader 1: 100%|██████████| 35/35 [00:01<00:00, 18.72it/s]\n"
     ]
    }
   ],
   "source": [
    "# 추론\n",
    "predictions = trainer.predict(model=model, datamodule=dataloader)\n",
    "test_predictions, val_predictions = predictions[0], predictions[1]\n",
    "# 결과 저장\n",
    "save_result(test_predictions, model_name, max_epoch, mode='output')\n",
    "save_result(val_predictions, model_name, max_epoch, mode='train')"
   ]
  }
 ],
 "metadata": {
  "kernelspec": {
   "display_name": "venv",
   "language": "python",
   "name": "python3"
  },
  "language_info": {
   "codemirror_mode": {
    "name": "ipython",
    "version": 3
   },
   "file_extension": ".py",
   "mimetype": "text/x-python",
   "name": "python",
   "nbconvert_exporter": "python",
   "pygments_lexer": "ipython3",
   "version": "3.12.1"
  }
 },
 "nbformat": 4,
 "nbformat_minor": 2
}
