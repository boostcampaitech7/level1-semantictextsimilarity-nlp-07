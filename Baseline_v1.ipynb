{
 "cells": [
  {
   "cell_type": "code",
   "execution_count": 3,
   "metadata": {},
   "outputs": [
    {
     "name": "stderr",
     "output_type": "stream",
     "text": [
      "Seed set to 0\n",
      "Some weights of RobertaForSequenceClassification were not initialized from the model checkpoint at klue/roberta-base and are newly initialized: ['classifier.dense.bias', 'classifier.dense.weight', 'classifier.out_proj.bias', 'classifier.out_proj.weight']\n",
      "You should probably TRAIN this model on a down-stream task to be able to use it for predictions and inference.\n",
      "Using 16bit Automatic Mixed Precision (AMP)\n",
      "GPU available: True (cuda), used: True\n",
      "TPU available: False, using: 0 TPU cores\n",
      "HPU available: False, using: 0 HPUs\n"
     ]
    }
   ],
   "source": [
    "from src.config.data_loader_config import DATA_LOADER_CONFIG, OPTIMIZER_CONFIG\n",
    "from src.data_loader.loader import Dataloader\n",
    "from src.model.model import Model, Models, LossFunctions\n",
    "from src.trainer.predict import save_result\n",
    "from utils.fix_seed import set_seed\n",
    "import src.callback as callback\n",
    "import pytorch_lightning as pl\n",
    "import torch\n",
    "import os\n",
    "\n",
    "# Parameters 설정\n",
    "batch_size = DATA_LOADER_CONFIG['batch_size']\n",
    "shuffle = DATA_LOADER_CONFIG['shuffle']\n",
    "learning_rate = OPTIMIZER_CONFIG['learning_rate']\n",
    "max_epoch = OPTIMIZER_CONFIG['max_epoch']\n",
    "num_workers: int = DATA_LOADER_CONFIG.get('num_workers', 4)  # num_workers 기본값 4로 설정\n",
    "torch.cuda.empty_cache()\n",
    "set_seed(0)\n",
    "\n",
    "# 모델 선언\n",
    "# select Model -> roberta_base, roberta_small, roberta_large, electra_base, electra_base_v3\n",
    "model_name = 'roberat_base_trending'\n",
    "model = Model(Models.roberta_base, learning_rate, LossFunctions.mse_loss)\n",
    "\n",
    "# Dataloader 선언\n",
    "dataloader = Dataloader(batch_size, shuffle, Models.roberta_base, check_aug=False, num_workers=num_workers)\n",
    "\n",
    "# callback 정의\n",
    "epoch_print_callback = callback.EpochPrintCallback()\n",
    "checkpoint_callback = callback.ModelCheckpoint(model_name=model_name)\n",
    "early_stopping = callback.EarlyStopping()\n",
    "lr_monitor = callback.LearningRateMonitor()\n",
    "\n",
    "trainer = pl.Trainer(\n",
    "    accelerator='auto',\n",
    "    devices='auto',\n",
    "    max_epochs=max_epoch,\n",
    "    callbacks=[lr_monitor, epoch_print_callback, checkpoint_callback, early_stopping],\n",
    "    precision='16-mixed',\n",
    "    deterministic=True\n",
    ")"
   ]
  },
  {
   "cell_type": "markdown",
   "metadata": {},
   "source": [
    "# 학습"
   ]
  },
  {
   "cell_type": "code",
   "execution_count": 4,
   "metadata": {},
   "outputs": [
    {
     "name": "stderr",
     "output_type": "stream",
     "text": [
      "c:\\Users\\승범 pc\\Desktop\\study\\deeplearning\\naver_boot\\level1-semantictextsimilarity-nlp-07\\project1_virtual\\Lib\\site-packages\\transformers\\tokenization_utils_base.py:1601: FutureWarning: `clean_up_tokenization_spaces` was not set. It will be set to `True` by default. This behavior will be depracted in transformers v4.45, and will be then set to `False` by default. For more details check this issue: https://github.com/huggingface/transformers/issues/31884\n",
      "  warnings.warn(\n",
      "c:\\Users\\승범 pc\\Desktop\\study\\deeplearning\\naver_boot\\level1-semantictextsimilarity-nlp-07\\project1_virtual\\Lib\\site-packages\\transformers\\tokenization_utils_base.py:1601: FutureWarning: `clean_up_tokenization_spaces` was not set. It will be set to `True` by default. This behavior will be depracted in transformers v4.45, and will be then set to `False` by default. For more details check this issue: https://github.com/huggingface/transformers/issues/31884\n",
      "  warnings.warn(\n",
      "LOCAL_RANK: 0 - CUDA_VISIBLE_DEVICES: [0]\n",
      "\n",
      "  | Name      | Type                             | Params | Mode \n",
      "-----------------------------------------------------------------------\n",
      "0 | plm       | RobertaForSequenceClassification | 110 M  | eval \n",
      "1 | loss_func | MSELoss                          | 0      | train\n",
      "-----------------------------------------------------------------------\n",
      "110 M     Trainable params\n",
      "0         Non-trainable params\n",
      "110 M     Total params\n",
      "442.476   Total estimated model params size (MB)\n",
      "1         Modules in train mode\n",
      "230       Modules in eval mode\n"
     ]
    },
    {
     "name": "stdout",
     "output_type": "stream",
     "text": [
      "Sanity Checking: |          | 0/? [00:00<?, ?it/s]"
     ]
    },
    {
     "name": "stderr",
     "output_type": "stream",
     "text": [
      "c:\\Users\\승범 pc\\Desktop\\study\\deeplearning\\naver_boot\\level1-semantictextsimilarity-nlp-07\\project1_virtual\\Lib\\site-packages\\pytorch_lightning\\trainer\\connectors\\data_connector.py:419: Consider setting `persistent_workers=True` in 'val_dataloader' to speed up the dataloader worker initialization.\n"
     ]
    },
    {
     "name": "stdout",
     "output_type": "stream",
     "text": [
      "                                                                           \r"
     ]
    },
    {
     "name": "stderr",
     "output_type": "stream",
     "text": [
      "c:\\Users\\승범 pc\\Desktop\\study\\deeplearning\\naver_boot\\level1-semantictextsimilarity-nlp-07\\project1_virtual\\Lib\\site-packages\\torch\\nn\\modules\\loss.py:538: UserWarning: Using a target size (torch.Size([16])) that is different to the input size (torch.Size([16, 1])). This will likely lead to incorrect results due to broadcasting. Please ensure they have the same size.\n",
      "  return F.mse_loss(input, target, reduction=self.reduction)\n",
      "c:\\Users\\승범 pc\\Desktop\\study\\deeplearning\\naver_boot\\level1-semantictextsimilarity-nlp-07\\project1_virtual\\Lib\\site-packages\\torchmetrics\\utilities\\prints.py:43: UserWarning: The variance of predictions or target is close to zero. This can cause instability in Pearson correlationcoefficient, leading to wrong results. Consider re-scaling the input if possible or computing using alarger dtype (currently using torch.float16).\n",
      "  warnings.warn(*args, **kwargs)  # noqa: B028\n",
      "c:\\Users\\승범 pc\\Desktop\\study\\deeplearning\\naver_boot\\level1-semantictextsimilarity-nlp-07\\project1_virtual\\Lib\\site-packages\\pytorch_lightning\\trainer\\connectors\\data_connector.py:419: Consider setting `persistent_workers=True` in 'train_dataloader' to speed up the dataloader worker initialization.\n"
     ]
    },
    {
     "name": "stdout",
     "output_type": "stream",
     "text": [
      "Epoch 0:  60%|█████▉    | 348/583 [00:21<00:14, 16.45it/s, v_num=40]"
     ]
    }
   ],
   "source": [
    "trainer.fit(model=model, datamodule=dataloader)"
   ]
  },
  {
   "cell_type": "markdown",
   "metadata": {},
   "source": [
    "# 추론\n"
   ]
  },
  {
   "cell_type": "code",
   "execution_count": null,
   "metadata": {},
   "outputs": [],
   "source": [
    "# 가장 좋은 모델 불러오기\n",
    "best_model_path = checkpoint_callback.best_model_path\n",
    "model = Model.load_from_checkpoint(best_model_path)\n",
    "trainer.test(model=model, datamodule=dataloader)\n",
    "# 추론\n",
    "predictions = trainer.predict(model=model, datamodule=dataloader)\n",
    "\n",
    "# 결과 저장\n",
    "save_result(predictions, model_name, max_epoch)"
   ]
  }
 ],
 "metadata": {
  "kernelspec": {
   "display_name": "venv",
   "language": "python",
   "name": "python3"
  },
  "language_info": {
   "codemirror_mode": {
    "name": "ipython",
    "version": 3
   },
   "file_extension": ".py",
   "mimetype": "text/x-python",
   "name": "python",
   "nbconvert_exporter": "python",
   "pygments_lexer": "ipython3",
   "version": "3.12.1"
  }
 },
 "nbformat": 4,
 "nbformat_minor": 2
}
